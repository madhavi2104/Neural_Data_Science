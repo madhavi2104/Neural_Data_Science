{
 "cells": [
  {
   "cell_type": "markdown",
   "metadata": {},
   "source": [
    "_Neural Data Science_\n",
    "\n",
    "Lecturer: Jan Lause, Prof. Dr. Philipp Berens\n",
    "\n",
    "Tutors: Jonas Beck, Rita González Márquez, Fabio Seel\n",
    "\n",
    "Summer term 2024\n",
    "\n",
    "Name: Madhavi Sen, Kübra Ozdemir, Lalitha Sivakumar\n",
    "\n",
    "# Coding Lab 8\n",
    "\n"
   ]
  },
  {
   "cell_type": "code",
   "execution_count": 2,
   "metadata": {},
   "outputs": [
    {
     "data": {
      "text/html": [
       "\n",
       "                <script type=\"application/javascript\" id=\"jupyter_black\">\n",
       "                (function() {\n",
       "                    if (window.IPython === undefined) {\n",
       "                        return\n",
       "                    }\n",
       "                    var msg = \"WARNING: it looks like you might have loaded \" +\n",
       "                        \"jupyter_black in a non-lab notebook with \" +\n",
       "                        \"`is_lab=True`. Please double check, and if \" +\n",
       "                        \"loading with `%load_ext` please review the README!\"\n",
       "                    console.log(msg)\n",
       "                    alert(msg)\n",
       "                })()\n",
       "                </script>\n",
       "                "
      ],
      "text/plain": [
       "<IPython.core.display.HTML object>"
      ]
     },
     "metadata": {},
     "output_type": "display_data"
    },
    {
     "name": "stdout",
     "output_type": "stream",
     "text": [
      "Last updated: 2024-06-30 22:09:42W. Europe Daylight Time\n",
      "\n",
      "Python implementation: CPython\n",
      "Python version       : 3.10.8\n",
      "IPython version      : 8.4.0\n",
      "\n",
      "sklearn: 1.1.1\n",
      "\n",
      "numpy     : 1.23.0\n",
      "matplotlib: 3.5.2\n",
      "seaborn   : 0.11.2\n",
      "\n",
      "Watermark: 2.4.3\n",
      "\n"
     ]
    }
   ],
   "source": [
    "import seaborn as sns\n",
    "import matplotlib.pyplot as plt\n",
    "import matplotlib as mpl\n",
    "import numpy as np\n",
    "\n",
    "mpl.rc(\"savefig\", dpi=72)\n",
    "sns.set_style(\"whitegrid\")\n",
    "%matplotlib inline\n",
    "\n",
    "%load_ext jupyter_black\n",
    "\n",
    "%load_ext watermark\n",
    "%watermark --time --date --timezone --updated --python --iversions --watermark -p sklearn"
   ]
  },
  {
   "cell_type": "markdown",
   "metadata": {},
   "source": [
    "# Task 1: Implement entropy estimators\n",
    "\n",
    "\n",
    "*Grading: 5 pts (basic) + 1 pts (advanced) + 3 pts (bonus)*"
   ]
  },
  {
   "cell_type": "markdown",
   "metadata": {},
   "source": [
    "## General framework\n",
    "\n",
    "Entropy is defined as \n",
    "\n",
    "$$\n",
    "H[p] = -\\sum_x p_x \\log p_x\n",
    "$$\n",
    "\n",
    "where $p_x = p(x=X)$. Here we assume that $X$ is a discrete random variable and that there are finitely many states $K$ that $X$ can take.\n",
    "\n",
    "We are interested in the entropy of discrete random variables, because of its relationship with mutual information:\n",
    "\n",
    "$$\n",
    "I[X|Y] = H[X] - H[X|Y]\n",
    "$$\n",
    "\n",
    "If we can estimate the entropy well, we can estimate the mutual information well. An application in neuroscience would be estimating the mutual information between a spike train modeled as a sequence of $1$ s and $0$ s (e.g. $(0,1,0,1,1)$) and a discrete set of stimuli.\n",
    "\n",
    "Note that a multivariate binary distribution modeling a spike train can always be mapped to a discrete univariate distribution, $\\mathbb{Z}_2 \\longrightarrow \\mathbb{Z_+}$, by interpreting each binary state $z \\in \\mathbb{Z}_2$ as its corresponding binary number and computing $f(z) = \\sum_i 2^{i} z_i$.\n",
    "\n",
    "As discussed in the lecture, the problem is that one always underestimates the true entropy of a distribution from samples. In this exercise you are meant to implement different estimators for discrete entropy and evaluate them on different discrete distributions:\n",
    "\n",
    "* Uniform distribution: $p(x=X) = \\frac{1}{K}$\n",
    "\n",
    "* \"Zipf's law\"- distribution: $p(x=X) = \\frac{1}{Z x} $, where $Z = \\sum_k 1/k$\n",
    "\n",
    "There is a really good series of blog posts about discrete entropy estimation to be found [here](http://www.nowozin.net/sebastian/blog/estimating-discrete-entropy-part-1.html), [here](http://www.nowozin.net/sebastian/blog/estimating-discrete-entropy-part-2.html) and [here](http://www.nowozin.net/sebastian/blog/estimating-discrete-entropy-part-3.html). \n",
    "\n",
    "Make sure you use binary logarithms throughout.\n"
   ]
  },
  {
   "cell_type": "markdown",
   "metadata": {},
   "source": [
    "## Implementation of the estimators\n",
    "\n",
    "Implement the\n",
    "\n",
    "* maximum likelihood estimator (1 pt)\n",
    "* miller-maddow corrected estimator (1 pt)\n",
    "* jack-knife corrected estimator (2 pt)\n",
    "* coverage adjusted estimator (1 pt).\n",
    "\n",
    "When implementing the jack-knife estimator, you may want to restrict the amount of resampling for performance reasons e.g. to 1000, even if more samples are available. By definition, $0\\log0=0$. Adapt the interfaces as needed for your implementation.\n",
    "\n",
    "In addition, implement or use one of the following more advanced estimators (1+3 pts, extra points if you use your own implementation):\n",
    "\n",
    "* [JVHW estimator](https://arxiv.org/abs/1406.6956) with code on [github](https://github.com/EEthinker/JVHW_Entropy_Estimators/tree/master/Python)\n",
    "* [Unseen estimator](http://papers.nips.cc/paper/5170-estimating-the-unseen-improved-estimators-for-entropy-and-other-properties) (includes Matlab code in Supplementary)\n",
    "* [Best Upper Bounds estimator](http://www.mitpressjournals.org/doi/abs/10.1162/089976603321780272) (Matlab code available on Ilias)\n",
    "\n",
    "For this part, you are allowed to use an existing implementation as well.\n"
   ]
  },
  {
   "cell_type": "markdown",
   "metadata": {},
   "source": [
    "## Basic\n",
    "*Grading: 5 pts*"
   ]
  },
  {
   "cell_type": "markdown",
   "metadata": {},
   "source": [
    "### MLE\n",
    "\n",
    "*Grading: 1 pts*\n",
    "\n",
    "$H_{ML}= -\\sum_{x}\\hat{p}(x)log(\\hat{p}(x))$"
   ]
  },
  {
   "cell_type": "code",
   "execution_count": 3,
   "metadata": {},
   "outputs": [],
   "source": [
    "def entropy_mle(phat):\n",
    "    \"\"\"Maximum likelihood or plug-in estimator of discrete entropy\n",
    "\n",
    "    Parameter\n",
    "    ---------\n",
    "\n",
    "    phat: np.array, shape=(n_bins, )\n",
    "        Estimate of the distribution / histogram\n",
    "\n",
    "    Return\n",
    "    ------\n",
    "    H: float\n",
    "        Entropy estimate\n",
    "    \"\"\"\n",
    "    # insert your code here (1 pt)\n",
    "\n",
    "    filtered = phat[phat > 0]\n",
    "\n",
    "    H = -np.sum(filtered * np.log2(filtered))\n",
    "\n",
    "    return H"
   ]
  },
  {
   "cell_type": "markdown",
   "metadata": {},
   "source": [
    "### Miller-Maddow corrected\n",
    "\n",
    "*Grading: 1 pts*\n",
    "\n",
    "$H_{MM}=H_{ML}+\\frac{\\hat{d}-1}{2n}$ \n",
    "\n",
    "$ \\hat{d} = \\#[\\hat{p}(x)>0]$ \n",
    "\n"
   ]
  },
  {
   "cell_type": "code",
   "execution_count": 4,
   "metadata": {},
   "outputs": [],
   "source": [
    "def entropy_mm(phat, n):\n",
    "    \"\"\"Miller-Maddow corrected estimator of discrete entropy\n",
    "\n",
    "    Parameters\n",
    "    ----------\n",
    "\n",
    "    phat: np.array, shape=(n_bins, )\n",
    "        Estimate of the distribution / histogram\n",
    "\n",
    "    n:  int\n",
    "        Number of samples\n",
    "\n",
    "\n",
    "    Return\n",
    "    ------\n",
    "\n",
    "    H: float\n",
    "        Entropy estimate\n",
    "    \"\"\"\n",
    "\n",
    "    # insert your code here (1 pt)\n",
    "\n",
    "    k = np.count_nonzero(phat)\n",
    "    H = entropy_mle(phat) + (k - 1) / (2 * n)\n",
    "    return H"
   ]
  },
  {
   "cell_type": "markdown",
   "metadata": {},
   "source": [
    "### Jack-knife corrected\n",
    "\n",
    "*Grading: 2 pts*\n",
    "\n",
    "$\\hat{H}_{JK} = N\\hat{H}_{ML} - (N-1)\\hat{H}_{ML}^{(.)}$ \n",
    "\n",
    "$\\hat{H}_{ML}^{(.)} = <H_{ML}^{\\lnot i}>$"
   ]
  },
  {
   "cell_type": "code",
   "execution_count": 5,
   "metadata": {},
   "outputs": [],
   "source": [
    "def entropy_jk(x, edges):\n",
    "    \"\"\"Jack-knife corrected estimator of discrete entropy\n",
    "\n",
    "    Parameters\n",
    "    ----------\n",
    "    x: np.array, shape=(n_samples, )\n",
    "        Samples\n",
    "\n",
    "    edges: np.array, shape=(n_bins, )\n",
    "        Histogram bin edges\n",
    "\n",
    "\n",
    "    Return\n",
    "    ------\n",
    "\n",
    "    H: float\n",
    "        Entropy estimate\n",
    "    \"\"\"\n",
    "\n",
    "    # insert your code here (2 pt)\n",
    "\n",
    "    N = len(x)\n",
    "\n",
    "    # Calculate the full sample entropy (H_ML)\n",
    "    hist, _ = np.histogram(x, bins=edges)\n",
    "    p = hist / N\n",
    "    H_ML = -np.sum(p[p > 0] * np.log2(p[p > 0]))\n",
    "\n",
    "    # Calculate the leave-one-out entropies\n",
    "    H_ML_i = np.zeros(N)\n",
    "    for i in range(N):\n",
    "        hist_i, _ = np.histogram(np.delete(x, i), bins=edges)\n",
    "        p_i = hist_i / (N - 1)\n",
    "        H_ML_i[i] = -np.sum(p_i[p_i > 0] * np.log2(p_i[p_i > 0]))\n",
    "\n",
    "    # Calculate the average leave-one-out entropy\n",
    "    H_ML_dot = np.mean(H_ML_i)\n",
    "\n",
    "    # Calculate the Jack-knife corrected entropy\n",
    "    H = N * H_ML - (N - 1) * H_ML_dot\n",
    "\n",
    "    # insert your code here (2 pt)\n",
    "    data_length = np.size(x)\n",
    "    if data_length > 1000:\n",
    "        index_array = np.arange(0, data_length)\n",
    "        np.random.shuffle(index_array)\n",
    "        selected_indices = index_array[:1000]\n",
    "        selected_count = 1000\n",
    "    else:\n",
    "        selected_indices = np.arange(0, data_length)\n",
    "        selected_count = data_length\n",
    "    entropy_values = []\n",
    "    for index in selected_indices:\n",
    "        # Exclude current index from the data\n",
    "        modified_data = np.delete(x.copy(), int(index))\n",
    "        # Estimate probability distribution\n",
    "        hist_values = np.histogram(modified_data, edges)[0]\n",
    "        prob_estimate = hist_values / np.size(modified_data)\n",
    "        entropy_value = entropy_mle(prob_estimate)\n",
    "        entropy_values.append(entropy_value)\n",
    "    # Estimate probability distribution for all data\n",
    "    full_hist_values = np.histogram(x, edges)[0]\n",
    "    full_prob_estimate = full_hist_values / data_length\n",
    "    # Calculate entropy for full data\n",
    "    full_entropy = entropy_mle(full_prob_estimate)\n",
    "    H = selected_count * full_entropy - (selected_count - 1) * np.mean(entropy_values)\n",
    "\n",
    "    return H"
   ]
  },
  {
   "cell_type": "markdown",
   "metadata": {},
   "source": [
    "### Coverage-adjusted\n",
    "\n",
    "*Grading: 1 pts*\n",
    "\n",
    "$C = 1 - \\frac{\\# f_{i}=1}{N}$\n",
    "\n",
    "$\\hat{P}_{C}= \\hat{P}\\cdot C$ \n",
    "\n",
    "$H_{CA}= -\\sum_{x}\\frac{\\hat{P_{C}}(x)log(\\hat{P_{C}}(x))}{1-(1-\\hat{P_{C}}(x))^N}$\n",
    "\n"
   ]
  },
  {
   "cell_type": "code",
   "execution_count": 6,
   "metadata": {},
   "outputs": [],
   "source": [
    "def entropy_cae(phat, n):\n",
    "    \"\"\"coverage-adjusted estimator of discrete entropy\n",
    "\n",
    "    Parameters\n",
    "    ----------\n",
    "\n",
    "    phat: np.array, shape=(n_bins, )\n",
    "        Estimate of the distribution / histogram\n",
    "\n",
    "    n: int\n",
    "        Number of samples.\n",
    "\n",
    "\n",
    "    Return\n",
    "    ------\n",
    "\n",
    "    H: float\n",
    "        Entropy estimate\n",
    "    \"\"\"\n",
    "\n",
    "    # Calculate coverage\n",
    "    C = 1 - np.count_nonzero(phat == 1) / n\n",
    "    # Adjust probabilities\n",
    "    P_C = phat * C\n",
    "    d = 1 - (1 - P_C) ** n\n",
    "    d[d == 0] = 1\n",
    "    # Calculate entropy\n",
    "    H = -np.sum(np.divide(np.array([p * np.log2(p) if p != 0 else 0 for p in P_C]), d))\n",
    "\n",
    "    return H"
   ]
  },
  {
   "cell_type": "markdown",
   "metadata": {},
   "source": [
    "## Advanced\n",
    "*Grading: 1 + 3 pts*"
   ]
  },
  {
   "cell_type": "markdown",
   "metadata": {},
   "source": [
    "### JVHW\n",
    "*Grading: 1 pts*"
   ]
  },
  {
   "cell_type": "code",
   "execution_count": 7,
   "metadata": {},
   "outputs": [],
   "source": [
    "def entropy_jvhw(x):\n",
    "    \"\"\"JVHW estimator of discrete entropy.\n",
    "\n",
    "    Parameter\n",
    "    ---------\n",
    "    x: np.array, shape=(n_samples, )\n",
    "        Samples\n",
    "\n",
    "    Return\n",
    "    ------\n",
    "    H: float\n",
    "        Entropy estimate\n",
    "    \"\"\"\n",
    "\n",
    "    # insert your code here (1 pt)\n",
    "\n",
    "    _, counts = np.unique(\n",
    "        x, return_counts=True\n",
    "    )  # note: tried to use entro.py package, but had technical difficulties in running\n",
    "    pr = counts / counts.sum()  # empirical dist\n",
    "\n",
    "    # calculate the jvhw entropy\n",
    "    n = len(x)\n",
    "    k = len(pr)\n",
    "\n",
    "    def V(p, n):  # aux\n",
    "        if p == 0 or p == 1:\n",
    "            return 0\n",
    "        return p * (1 - p) / (n * (1 - 1 / n))\n",
    "\n",
    "    H = 0\n",
    "    for p in pr:\n",
    "        H += V(p, n)\n",
    "\n",
    "    return -H"
   ]
  },
  {
   "cell_type": "markdown",
   "metadata": {},
   "source": [
    "### Bonus points: Unseen or Best Upper Bounds estimator\n",
    "*Grading: 3 bonus pts*"
   ]
  },
  {
   "cell_type": "code",
   "execution_count": 8,
   "metadata": {},
   "outputs": [
    {
     "name": "stdout",
     "output_type": "stream",
     "text": [
      "var1: [12 15  0  3  3  7  9 19 18  4]\n",
      "var2: ['category2' 'category1' 'category2' 'category2' 'category1' 'category3'\n",
      " 'category3' 'category3' 'category3' 'category2']\n",
      "var3: [4.31418435 8.96546596 3.6756187  4.35864925 8.91923355 8.06193989\n",
      " 7.03888584 1.00226887 9.19482614 7.142413  ]\n",
      "H(var1): 4.2124674171731975\n"
     ]
    }
   ],
   "source": [
    "# insert your code here\n",
    "\n",
    "# ------------------------------------------\n",
    "# Port Unseen or Best Upper Bounds estimator\n",
    "# from MatLab to Python. (3 bonus pts)\n",
    "\n",
    "# !pip install mysql-connector-python datajoint numpy\n",
    "\n",
    "# Since no additional context is given, and an unseen/best estimator depends on several aspects about the underlying data distribution, I will\n",
    "np.random.seed(0)\n",
    "\n",
    "# Example variables\n",
    "var1 = np.random.randint(0, 20, size=100)\n",
    "var2 = np.random.choice([\"category1\", \"category2\", \"category3\"], size=100)\n",
    "var3 = np.random.rand(100) * 10\n",
    "print(\"var1:\", var1[:10])\n",
    "print(\"var2:\", var2[:10])\n",
    "print(\"var3:\", var3[:10])\n",
    "\n",
    "\n",
    "def entropy_paninski(data):\n",
    "    \"\"\"\n",
    "\n",
    "    data : np.array, shape=(n_samples, )\n",
    "        Array of discrete values (e.g., int/categorical).\n",
    "\n",
    "    returns\n",
    "    -------\n",
    "    float\n",
    "        Estimated entropy of the data.\n",
    "    \"\"\"\n",
    "    n = len(data)\n",
    "\n",
    "    _, counts = np.unique(data, return_counts=True)\n",
    "    p_hat = counts / n\n",
    "    H = -np.sum(p_hat * np.log2(p_hat))  # P entropy\n",
    "    return H\n",
    "\n",
    "\n",
    "# Ex : H for var1\n",
    "v1 = entropy_paninski(var1)\n",
    "print(\"H(var1):\", v1)\n",
    "\n",
    "# _, v2e = np.unique(var2, return_inverse=True)\n",
    "# v2 = entropy_paninski(v2e)\n",
    "# print(\"H(var2):\", v2)\n",
    "\n",
    "# v3 = entropy_paninski(var3)\n",
    "# print(\"H(var3):\", v3)"
   ]
  },
  {
   "cell_type": "markdown",
   "metadata": {},
   "source": [
    "# Task 2: Distributions\n",
    "*Grading: 4 pts*"
   ]
  },
  {
   "cell_type": "markdown",
   "metadata": {},
   "source": [
    "## Uniform distribution\n",
    "*Grading: 2 pts*"
   ]
  },
  {
   "cell_type": "code",
   "execution_count": 9,
   "metadata": {},
   "outputs": [
    {
     "name": "stdout",
     "output_type": "stream",
     "text": [
      "10.0\n"
     ]
    }
   ],
   "source": [
    "D = 10\n",
    "N = 2**D\n",
    "\n",
    "p = 1 / N * np.ones(N)  # true distribution\n",
    "\n",
    "H = -np.sum(p * np.log2(p))  # true entropy\n",
    "\n",
    "print(H)"
   ]
  },
  {
   "cell_type": "markdown",
   "metadata": {},
   "source": [
    "Sample from the uniform distribution using sample sizes of 100 and 10000. Plot the true distribution and the sampled distributions. What do you notice? (2 pt)"
   ]
  },
  {
   "cell_type": "code",
   "execution_count": 10,
   "metadata": {
    "scrolled": false
   },
   "outputs": [
    {
     "data": {
      "image/png": "[encoded data removed]",
      "text/plain": [
       "<Figure size 864x432 with 1 Axes>"
      ]
     },
     "metadata": {
      "needs_background": "light"
     },
     "output_type": "display_data"
    }
   ],
   "source": [
    "# insert your code here\n",
    "rng = np.random.default_rng(0)\n",
    "\n",
    "min_val = 0\n",
    "max_val = 1\n",
    "# ------------------------------------\n",
    "# Sample from the uniform distribution\n",
    "# using sample size of 100 (0.5 pts)\n",
    "# ------------------------------------\n",
    "sample_100 = np.random.uniform(min_val, max_val, 100)\n",
    "\n",
    "# ------------------------------------\n",
    "# Sample from the uniform distribution\n",
    "# using sample size of 10000 (0.5 pts)\n",
    "# ------------------------------------\n",
    "sample_10000 = np.random.uniform(min_val, max_val, 10000)\n",
    "\n",
    "\n",
    "# ------------------------------------\n",
    "# Plot the true distribution and\n",
    "# the sampled distributions. (0.5 pts)\n",
    "# ------------------------------------\n",
    "# Plot all distributions in one graph\n",
    "plt.figure(figsize=(12, 6))\n",
    "\n",
    "# True distribution\n",
    "plt.plot([min_val, max_val], [1, 1], \"r-\", label=\"True Distribution\", linewidth=2)\n",
    "\n",
    "# Sample size 100\n",
    "plt.hist(\n",
    "    sample_100, bins=100, density=True, alpha=0.5, label=\"Sample (n=100)\", color=\"blue\"\n",
    ")\n",
    "\n",
    "# Sample size 10000\n",
    "plt.hist(\n",
    "    sample_10000,\n",
    "    bins=100,\n",
    "    density=True,\n",
    "    alpha=0.5,\n",
    "    label=\"Sample (n=10000)\",\n",
    "    color=\"green\",\n",
    ")\n",
    "\n",
    "plt.title(\"Uniform Distribution: True vs Sampled\")\n",
    "plt.xlabel(\"Value\")\n",
    "plt.ylabel(\"Density\")\n",
    "plt.legend()\n",
    "plt.show()"
   ]
  },
  {
   "cell_type": "markdown",
   "metadata": {},
   "source": [
    "In smaller sample sizes (n = 100 in our case), we don't see a very uniform distribution. However, as we increased the sample size (n = 100000), we are approaching to the true distribution and see less deviation as a result of law of large numbers.\n",
    "\n",
    "Use the framework below to generate samples of different size (logarithmically spaced between 10 and 100000) and evaluate the different entropy estimators for multiple runs."
   ]
  },
  {
   "cell_type": "code",
   "execution_count": 11,
   "metadata": {},
   "outputs": [],
   "source": [
    "sample_sizes = np.round(np.logspace(1, 5, num=10))\n",
    "n_runs = 30\n",
    "rng = np.random.default_rng(1)\n",
    "\n",
    "edges = np.arange(-0.5, N, 1)\n",
    "\n",
    "h_mle = np.zeros((len(sample_sizes), n_runs))\n",
    "h_mm = np.zeros((len(sample_sizes), n_runs))\n",
    "h_jk = np.zeros((len(sample_sizes), n_runs))\n",
    "h_cae = np.zeros((len(sample_sizes), n_runs))\n",
    "h_jvhw = np.zeros((len(sample_sizes), n_runs))\n",
    "\n",
    "# add h_unseen or h_bub here if you implemented them.\n",
    "\n",
    "for i, S in enumerate(sample_sizes):\n",
    "    for j in np.arange(n_runs):\n",
    "\n",
    "        # ------------------------------------\n",
    "        # Sample from the uniform distribution\n",
    "        # with different sample size (0.5 pts)\n",
    "        # ------------------------------------\n",
    "\n",
    "        # insert your code here\n",
    "\n",
    "        x = np.random.randint(0, N, int(S))\n",
    "        hist = np.histogram(x, edges)[0]\n",
    "        phat = hist / S\n",
    "\n",
    "        h_mle[i, j] = entropy_mle(phat)\n",
    "        h_mm[i, j] = entropy_mm(phat, S)\n",
    "        h_cae[i, j] = entropy_cae(phat, S)\n",
    "        # h_jk[i, j] = entropy_jk(x, edges)\n",
    "        # h_jvhw[i, j] = entropy_jvhw(x)"
   ]
  },
  {
   "cell_type": "markdown",
   "metadata": {},
   "source": [
    "Plot the resulting average estimate of the entropy for each of the estimators. Which is best? If you implemented everything correctly, this plot should roughly look like in the lecture."
   ]
  },
  {
   "cell_type": "code",
   "execution_count": 12,
   "metadata": {},
   "outputs": [
    {
     "data": {
      "text/plain": [
       "<matplotlib.legend.Legend at 0x21c88f7f010>"
      ]
     },
     "execution_count": 12,
     "metadata": {},
     "output_type": "execute_result"
    },
    {
     "data": {
      "image/png": "[encoded data removed]",
      "text/plain": [
       "<Figure size 432x288 with 1 Axes>"
      ]
     },
     "metadata": {
      "needs_background": "light"
     },
     "output_type": "display_data"
    }
   ],
   "source": [
    "plt.figure()\n",
    "\n",
    "plt.semilogx(sample_sizes, np.mean(h_mle, axis=1), label=\"mle\")\n",
    "plt.semilogx(sample_sizes, np.mean(h_mm, axis=1), label=\"mm\")\n",
    "plt.semilogx(sample_sizes, np.mean(h_cae, axis=1), label=\"cae\")\n",
    "plt.semilogx(sample_sizes, np.mean(h_jk, axis=1), label=\"jk\")\n",
    "plt.semilogx(sample_sizes, np.mean(h_jvhw, axis=1), label=\"jvhw\")\n",
    "\n",
    "# plot h_unseen or h_bub here if you implemented them.\n",
    "\n",
    "plt.axhline(H, color=\"black\", linestyle=\":\")\n",
    "\n",
    "plt.legend()"
   ]
  },
  {
   "cell_type": "markdown",
   "metadata": {},
   "source": [
    "## Zipf distribution\n",
    "*Grading: 2 pts*\n",
    "\n",
    "[Zipf's law ](https://en.wikipedia.org/wiki/Zipf%27s_law) refers to a family of power law like distributions for which $p_k \\sim 1/k^d$. We will simply use $d=1$ here.   \n",
    "\n",
    "Adapt the framework above to sample from a Zipf distribution and evaluate the estimators for this case. Are there differences to the uniform case? (2 pts)"
   ]
  },
  {
   "cell_type": "code",
   "execution_count": 13,
   "metadata": {},
   "outputs": [
    {
     "name": "stdout",
     "output_type": "stream",
     "text": [
      "7.510649703297878\n"
     ]
    }
   ],
   "source": [
    "D = 10\n",
    "N = 2**D\n",
    "\n",
    "p = 1 / (np.arange(0, N) + 1)  # true distribution\n",
    "p = p / np.sum(p)\n",
    "\n",
    "H = -np.sum(p * np.log2(p))  # true entropy\n",
    "\n",
    "print(H)"
   ]
  },
  {
   "cell_type": "markdown",
   "metadata": {},
   "source": [
    "Sample from the Zipf distribution using sample sizes of 100 and 10000. In this case, the function `choice` of numpys random number generator is very helpful for sampling. Plot the true distribution and the sampled distributions. What do you notice? "
   ]
  },
  {
   "cell_type": "code",
   "execution_count": 14,
   "metadata": {},
   "outputs": [
    {
     "data": {
      "image/png": "[encoded data removed]",
      "text/plain": [
       "<Figure size 864x432 with 1 Axes>"
      ]
     },
     "metadata": {
      "needs_background": "light"
     },
     "output_type": "display_data"
    }
   ],
   "source": [
    "# insert your code here\n",
    "rng = np.random.default_rng(2)\n",
    "\n",
    "# ---------------------------------------\n",
    "# Sample from the Zipf distribution\n",
    "# using sample size of 100 (0.5 pts)\n",
    "# ---------------------------------------\n",
    "D = 10  # params\n",
    "N = 2**D\n",
    "p_zipf = 1 / (np.arange(1, N + 1))  # with d=1\n",
    "p_zipf = p_zipf / np.sum(p_zipf)  # normalize\n",
    "\n",
    "# ---------------------------------------\n",
    "# Sample from the Zipf distribution\n",
    "# using sample size of 10000 (0.5 pts)\n",
    "# ---------------------------------------\n",
    "sample_100 = rng.choice(np.arange(1, N + 1), size=100, p=p_zipf)\n",
    "sample_10000 = rng.choice(np.arange(1, N + 1), size=10000, p=p_zipf)\n",
    "\n",
    "# ---------------------------------------\n",
    "# Plot the true distribution and the sampled\n",
    "# distributions. (0.5 pts)\n",
    "# ---------------------------------------\n",
    "\n",
    "plt.figure(figsize=(12, 6))\n",
    "plt.plot(np.arange(1, N + 1), p_zipf, label=\"true distribution\")\n",
    "bins = np.arange(1, N + 2)\n",
    "plt.hist(sample_100, bins, alpha=0.35, density=True, label=\"size 100\")\n",
    "plt.hist(sample_10000, bins, alpha=0.35, density=True, label=\"size 10000\")\n",
    "\n",
    "plt.xlabel(\"Value\")\n",
    "plt.ylabel(\"Probability\")\n",
    "plt.yscale(\"log\")\n",
    "plt.legend()\n",
    "plt.show()"
   ]
  },
  {
   "cell_type": "markdown",
   "metadata": {},
   "source": [
    "The sample size= 10000 better approximates the true Zipf distribution than the sample size=100 (as per LLN). \n",
    "\n",
    "But still, both samples don't seem to capture much of the distribution's tail, especially for larger values with very low probabilities. This feature is typical of Zipf and other heavy-tailed distributions, where a few elements are very common while others are rare."
   ]
  },
  {
   "cell_type": "markdown",
   "metadata": {},
   "source": [
    "Use the framework below to generate samples of different size (logarithmically spaced between 10 and 100000) and evaluate the different entropy estimators for multiple runs."
   ]
  },
  {
   "cell_type": "code",
   "execution_count": 15,
   "metadata": {},
   "outputs": [],
   "source": [
    "sample_sizes = np.round(np.logspace(1, 5, num=10))\n",
    "n_runs = 30\n",
    "rng = np.random.default_rng(3)\n",
    "\n",
    "edges = np.arange(-0.5, N, 1)\n",
    "\n",
    "h_mle = np.zeros((len(sample_sizes), n_runs))\n",
    "h_mm = np.zeros((len(sample_sizes), n_runs))\n",
    "h_jk = np.zeros((len(sample_sizes), n_runs))\n",
    "h_cae = np.zeros((len(sample_sizes), n_runs))\n",
    "h_jvhw = np.zeros((len(sample_sizes), n_runs))\n",
    "\n",
    "# add h_unseen or h_bub here if you implemented them\n",
    "\n",
    "v1 = np.zeros((len(sample_sizes), n_runs))\n",
    "\n",
    "for i, S in enumerate(sample_sizes):\n",
    "    for j in np.arange(n_runs):\n",
    "\n",
    "        # ---------------------------------------\n",
    "        # Sample from the Zipf distribution\n",
    "        # with different sample size (0.5 pts)\n",
    "        # ---------------------------------------\n",
    "\n",
    "        # insert your code here\n",
    "        x = np.random.choice(np.arange(N), size=int(S), p=p)\n",
    "        hist = np.histogram(x, edges)[0]\n",
    "        phat = hist / S\n",
    "\n",
    "        h_mle[i, j] = entropy_mle(phat)\n",
    "        h_mm[i, j] = entropy_mm(phat, S)\n",
    "        h_cae[i, j] = entropy_cae(phat, S)\n",
    "        h_jk[i, j] = entropy_jk(x, edges)\n",
    "        h_jvhw[i, j] = entropy_jvhw(x)"
   ]
  },
  {
   "cell_type": "code",
   "execution_count": 16,
   "metadata": {},
   "outputs": [],
   "source": [
    "D = 10\n",
    "N = 2**D\n",
    "\n",
    "# True Zipf distribution\n",
    "p_zipf = 1 / (np.arange(1, N + 1))  # Zipf's law with d=1\n",
    "p_zipf = p_zipf / np.sum(p_zipf)  # Normalize to make it a probability distribution\n",
    "\n",
    "# Parameters for evaluation\n",
    "sample_sizes = np.round(np.logspace(1, 5, num=10)).astype(\n",
    "    int\n",
    ")  # Logarithmically spaced sample sizes\n",
    "n_runs = 30  # Number of runs\n",
    "rng = np.random.default_rng(3)\n",
    "\n",
    "# Arrays to store entropy estimates\n",
    "h_mle = np.zeros((len(sample_sizes), n_runs))\n",
    "h_mm = np.zeros((len(sample_sizes), n_runs))\n",
    "h_jk = np.zeros((len(sample_sizes), n_runs))\n",
    "h_cae = np.zeros((len(sample_sizes), n_runs))\n",
    "h_jvhw = np.zeros((len(sample_sizes), n_runs))\n",
    "\n",
    "# Loop over sample sizes and runs\n",
    "for i, S in enumerate(sample_sizes):\n",
    "    for j in range(n_runs):\n",
    "        # Sample from the Zipf distribution with size S\n",
    "        samples = rng.choice(np.arange(1, N + 1), size=S, p=p_zipf)\n",
    "\n",
    "        # Estimate entropy using different estimators\n",
    "        phat = np.bincount(samples, minlength=N + 1)[1:] / S  # Empirical distribution\n",
    "\n",
    "        h_mle[i, j] = entropy_mle(phat)\n",
    "        h_mm[i, j] = entropy_mm(phat, S)\n",
    "        h_cae[i, j] = entropy_cae(phat, S)\n",
    "        h_jk[i, j] = entropy_jk(samples, np.arange(-0.5, N, 1))\n",
    "        h_jvhw[i, j] = entropy_jvhw(samples)\n",
    "\n",
    "# Plotting results\n",
    "plt.figure(figsize=(12, 8))\n",
    "\n",
    "# Plotting entropy estimates for each estimator\n",
    "plt.errorbar(\n",
    "    sample_sizes,\n",
    "    np.mean(h_mle, axis=1),\n",
    "    yerr=np.std(h_mle, axis=1),\n",
    "    fmt=\"-o\",\n",
    "    label=\"MLE\",\n",
    ")\n",
    "plt.errorbar(\n",
    "    sample_sizes,\n",
    "    np.mean(h_mm, axis=1),\n",
    "    yerr=np.std(h_mm, axis=1),\n",
    "    fmt=\"-s\",\n",
    "    label=\"Miller-Madow\",\n",
    ")\n",
    "plt.errorbar(\n",
    "    sample_sizes,\n",
    "    np.mean(h_cae, axis=1),\n",
    "    yerr=np.std(h_cae, axis=1),\n",
    "    fmt=\"-^\",\n",
    "    label=\"Chao-Entropy\",\n",
    ")\n",
    "plt.errorbar(\n",
    "    sample_sizes,\n",
    "    np.mean(h_jk, axis=1),\n",
    "    yerr=np.std(h_jk, axis=1),\n",
    "    fmt=\"-d\",\n",
    "    label=\"Miller-Jackknife\",\n",
    ")\n",
    "plt.errorbar(\n",
    "    sample_sizes,\n",
    "    np.mean(h_jvhw, axis=1),\n",
    "    yerr=np.std(h_jvhw, axis=1),\n",
    "    fmt=\"-p\",\n",
    "    label=\"JVHW\",\n",
    ")\n",
    "\n",
    "plt.xscale(\"log\")  # Logarithmic scale for x-axis\n",
    "plt.xlabel(\"Sample Size\")\n",
    "plt.ylabel(\"Estimated Entropy\")\n",
    "plt.title(\"Entropy Estimation with Different Sample Sizes\")\n",
    "plt.legend()\n",
    "plt.grid(True)\n",
    "plt.show()"
   ]
  },
  {
   "cell_type": "markdown",
   "metadata": {},
   "source": [
    "Plot resulting average estimate of the entropy for each of the estimators. Which is best? If you implemented everything correctly, this plot should roughly look like in the lecture."
   ]
  },
  {
   "cell_type": "code",
   "execution_count": null,
   "metadata": {},
   "outputs": [],
   "source": [
    "plt.figure()\n",
    "\n",
    "plt.semilogx(sample_sizes, np.mean(h_mle, axis=1), label=\"mle\")\n",
    "plt.semilogx(sample_sizes, np.mean(h_mm, axis=1), label=\"mm\")\n",
    "plt.semilogx(sample_sizes, np.mean(h_cae, axis=1), label=\"cae\")\n",
    "plt.semilogx(sample_sizes, np.mean(h_jk, axis=1), label=\"jk\")\n",
    "plt.semilogx(sample_sizes, np.mean(h_jvhw, axis=1), label=\"jvhw\")\n",
    "\n",
    "# plot h_unseen or h_bub here if you implemented them.\n",
    "plt.semilogx(sample_sizes, np.mean(v1, axis=1), label=\"jvhw\")\n",
    "\n",
    "plt.axhline(H, color=\"black\", linestyle=\":\")\n",
    "plt.legend()"
   ]
  }
 ],
 "metadata": {
  "kernelspec": {
   "display_name": "Python 3 (ipykernel)",
   "language": "python",
   "name": "python3"
  },
  "language_info": {
   "codemirror_mode": {
    "name": "ipython",
    "version": 3
   },
   "file_extension": ".py",
   "mimetype": "text/x-python",
   "name": "python",
   "nbconvert_exporter": "python",
   "pygments_lexer": "ipython3",
   "version": "3.10.8"
  }
 },
 "nbformat": 4,
 "nbformat_minor": 4
}
