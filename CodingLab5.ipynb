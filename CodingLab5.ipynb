{
 "cells": [
  {
   "cell_type": "markdown",
   "metadata": {},
   "source": [
    "_Neural Data Analysis_\n",
    "\n",
    "Lecturer: Jan Lause, Prof. Dr. Philipp Berens\n",
    "\n",
    "Tutors: Jonas Beck, Rita González Márquez, Fabio Seel\n",
    "\n",
    "Summer term 2024\n",
    "\n",
    "Name: FILL IN YOUR NAMES HERE\n",
    "\n",
    "# Coding Lab 5\n",
    "\n"
   ]
  },
  {
   "cell_type": "code",
   "execution_count": 2,
   "metadata": {},
   "outputs": [
    {
     "name": "stdout",
     "output_type": "stream",
     "text": [
      "The jupyter_black extension is already loaded. To reload it, use:\n",
      "  %reload_ext jupyter_black\n",
      "The watermark extension is already loaded. To reload it, use:\n",
      "  %reload_ext watermark\n",
      "Last updated: 2024-06-04 18:47:16CEST\n",
      "\n",
      "Python implementation: CPython\n",
      "Python version       : 3.11.5\n",
      "IPython version      : 8.15.0\n",
      "\n",
      "sklearn: 1.3.0\n",
      "\n",
      "numpy     : 1.24.3\n",
      "matplotlib: 3.7.2\n",
      "scipy     : 1.11.1\n",
      "\n",
      "Watermark: 2.4.3\n",
      "\n"
     ]
    }
   ],
   "source": [
    "import matplotlib.pyplot as plt\n",
    "import numpy as np\n",
    "import scipy.optimize as opt\n",
    "import scipy.io as io\n",
    "\n",
    "%load_ext jupyter_black\n",
    "\n",
    "%load_ext watermark\n",
    "%watermark --time --date --timezone --updated --python --iversions --watermark -p sklearn\n",
    "\n",
    "%matplotlib inline\n",
    "plt.style.use(\n",
    "    # \"D:/qds lectures/sem4/Neural Data Science/Assignments/1/CL1/matplotlib_style.txt\"\n",
    "    \"/Users/kubraozdemir/Downloads/Neural Data Science/CL1/matplotlib_style.txt\"\n",
    ")"
   ]
  },
  {
   "cell_type": "markdown",
   "metadata": {},
   "source": [
    "## Task 1: Fit RF on simulated data\n",
    "\n",
    "We will start  with toy data generated from an LNP model neuron to make sure everything works right. The model LNP neuron consists of one Gaussian linear filter, an exponential nonlinearity and a Poisson spike count generator. We look at it in discrete time with time bins of width $\\delta t$. The model is:\n",
    "\n",
    "$$\n",
    "c_t \\sim Poisson(r_t)\\\\\n",
    "r_t = \\exp(w^T s_t) \\cdot \\Delta t \\cdot R\n",
    "$$\n",
    "\n",
    "Here, $c_t$ is the spike count in time window $t$ of length $\\Delta t$, $s_t$ is the stimulus and $w$ is the receptive field of the neuron. The receptive field variable `w` is 15 × 15 pixels and normalized to $||w||=1$. A stimulus frame is a 15 × 15 pixel image, for which we use uncorrelated checkerboard noise. R can be used to bring the firing rate into the right regime (e.g. by setting $R=50$).      \n",
    "\n",
    "For computational ease, we reformat the stimulus and the receptive field in a 225 by 1 array. The function ```sample_lnp``` can be used to generate data from this model. It returns a spike count vector `c` with samples from the model (dimensions: 1 by nT = $T/\\Delta t$), a stimulus matrix `s` (dimensions: 225 × nT) and the mean firing rate `r` (dimensions: nT × 1). \n",
    "\n",
    "Here we assume that the receptive field influences the spike count instantaneously just as in the above equations. Implement a Maximum Likelihood approach to fit the receptive field. \n",
    "\n",
    "To this end simplify and implement the log-likelihood function $L(w)$ and its gradient $\\frac{L(w)}{dw}$ with respect to $w$ (`negloglike_lnp`). The log-likelihood of the model is\n",
    "$$L(w) = \\log \\prod_t \\frac{r_t^{c_t}}{c_t!}\\exp(-r_t).$$\n",
    "\n",
    "Plot the true receptive field, a stimulus frame, the spike counts and the estimated receptive field. \n",
    "\n",
    "*Grading: 2 pts (calculations) + 3 pts (implementation)*\n"
   ]
  },
  {
   "cell_type": "markdown",
   "metadata": {},
   "source": [
    "### Calculations\n",
    "_You can add your calculations in_ $\\LaTeX$ _here_.\n",
    "\n",
    "$L(\\omega) = \\ldots$\n",
    "\n",
    "$\\frac{dL(\\omega)}{d\\omega} = \\ldots$"
   ]
  },
  {
   "cell_type": "markdown",
   "metadata": {},
   "source": [
    "### Generate data"
   ]
  },
  {
   "cell_type": "code",
   "execution_count": 4,
   "metadata": {},
   "outputs": [
    {
     "data": {
      "text/plain": [
       "Text(0.5, 1.0, 'Gaussian RF')"
      ]
     },
     "execution_count": 4,
     "metadata": {},
     "output_type": "execute_result"
    },
    {
     "data": {
      "image/png": "[encoded data removed]",
      "text/plain": [
       "<Figure size 500x500 with 1 Axes>"
      ]
     },
     "metadata": {},
     "output_type": "display_data"
    }
   ],
   "source": [
    "def gen_gauss_rf(D: int, width: float, center: tuple = (0, 0)) -> np.ndarray:\n",
    "    \"\"\"\n",
    "    Generate a Gaussian receptive field.\n",
    "\n",
    "    Args:\n",
    "        D (int): Size of the receptive field (DxD).\n",
    "        width (float): Width parameter of the Gaussian.\n",
    "        center (tuple, optional): Center coordinates of the receptive field. Defaults to (0, 0).\n",
    "\n",
    "    Returns:\n",
    "        np.ndarray: Gaussian receptive field.\n",
    "    \"\"\"\n",
    "\n",
    "    sz = (D - 1) / 2\n",
    "    x, y = np.meshgrid(np.arange(-sz, sz + 1), np.arange(-sz, sz + 1))\n",
    "    x = x + center[0]\n",
    "    y = y + center[1]\n",
    "    w = np.exp(-(x**2 / width + y**2 / width))\n",
    "    w = w / np.sum(w.flatten())\n",
    "\n",
    "    return w\n",
    "\n",
    "\n",
    "w = gen_gauss_rf(15, 7, (1, 1))\n",
    "\n",
    "vlim = np.max(np.abs(w))\n",
    "fig, ax = plt.subplots(1, 1, figsize=(5, 5))\n",
    "ax.imshow(w, cmap=\"bwr\", vmin=-vlim, vmax=vlim)\n",
    "ax.set_title(\"Gaussian RF\")"
   ]
  },
  {
   "cell_type": "code",
   "execution_count": 37,
   "metadata": {},
   "outputs": [],
   "source": [
    "def sample_lnp(\n",
    "    w: np.array, nT: int, dt: float, R: float, v: float, random_seed: int = 10\n",
    "):\n",
    "    \"\"\"Generate samples from an instantaneous LNP model neuron with\n",
    "    receptive field kernel w.\n",
    "\n",
    "    Parameters\n",
    "    ----------\n",
    "\n",
    "    w: np.array, (Dx * Dy, )\n",
    "        (flattened) receptive field kernel.\n",
    "\n",
    "    nT: int\n",
    "        number of time steps\n",
    "\n",
    "    dt: float\n",
    "        duration of a frame in s\n",
    "\n",
    "    R: float\n",
    "        rate parameter\n",
    "\n",
    "    v: float\n",
    "        variance of the flattened stimulus array\n",
    "\n",
    "    random_seed: int\n",
    "        seed for random number generator\n",
    "\n",
    "    Returns\n",
    "    -------\n",
    "\n",
    "    c: np.array, (nT, )\n",
    "        sampled spike counts in time bins\n",
    "\n",
    "    r: np.array, (nT, )\n",
    "        mean rate in time bins\n",
    "\n",
    "    s: np.array, (Dx * Dy, nT)\n",
    "        stimulus frames used\n",
    "\n",
    "    Note\n",
    "    ----\n",
    "\n",
    "    See equations in task description above for a precise definition\n",
    "    of the individual parameters.\n",
    "\n",
    "    \"\"\"\n",
    "\n",
    "    rng = np.random.default_rng(random_seed)\n",
    "\n",
    "    # insert your code here\n",
    "\n",
    "    # ------------------------------------------------\n",
    "    # Generate samples from an instantaneous LNP model\n",
    "    # neuron with receptive field kernel w. (0.5 pts)\n",
    "    # ------------------------------------------------\n",
    "\n",
    "    # Generate random Gaussian noise for the stimulus\n",
    "    s = rng.normal(scale=v, size=(w.shape[0], nT))\n",
    "\n",
    "    # Calculate the weighted sum of the stimulus for each time point\n",
    "    z = np.dot(w, s)\n",
    "\n",
    "    # Calculate the firing rate at each time point\n",
    "    r = np.exp(z) * dt * R\n",
    "\n",
    "    # Sample spike counts from a Poisson distribution with the firing rate\n",
    "    c = rng.poisson(r)\n",
    "\n",
    "    return c, r, s"
   ]
  },
  {
   "cell_type": "code",
   "execution_count": 38,
   "metadata": {},
   "outputs": [],
   "source": [
    "D = 15  # number of pixels\n",
    "nT = 1000  # number of time bins\n",
    "dt = 0.1  # bins of 100 ms\n",
    "R = 50  # firing rate in Hz\n",
    "v = 20  # stimulus variance\n",
    "\n",
    "w = gen_gauss_rf(D, 7, (1, 1))\n",
    "w = w.flatten()\n",
    "\n",
    "c, r, s = sample_lnp(w, nT, dt, R, v)"
   ]
  },
  {
   "cell_type": "markdown",
   "metadata": {},
   "source": [
    "Plot the stimulus for one frame, the cell's response over time and the spike count vs firing rate."
   ]
  },
  {
   "cell_type": "code",
   "execution_count": 39,
   "metadata": {},
   "outputs": [
    {
     "name": "stderr",
     "output_type": "stream",
     "text": [
      "/var/folders/n5/j19jndm90jx7nmcl1rs908nm0000gn/T/ipykernel_72387/2803433419.py:25: UserWarning: The figure layout has changed to tight\n",
      "  plt.tight_layout()\n"
     ]
    },
    {
     "data": {
      "image/png": "[encoded data removed]",
      "text/plain": [
       "<Figure size 1500x400 with 3 Axes>"
      ]
     },
     "metadata": {},
     "output_type": "display_data"
    }
   ],
   "source": [
    "mosaic = mosaic = [[\"stim\", \"responses\", \"count/rate\"]]\n",
    "\n",
    "fig, ax = plt.subplot_mosaic(mosaic=mosaic, figsize=(15, 4))\n",
    "# -----------------------------------------------------------------------------------------------------------\n",
    "# Plot the stimulus for one frame, the cell's responses over time and spike count vs firing rate (0.5 points)\n",
    "# -----------------------------------------------------------------------------------------------------------\n",
    "# plot the stimulus grid only for one frame\n",
    "ax[\"stim\"].imshow(s[:, 0].reshape(15, 15), cmap=\"bwr\")\n",
    "ax[\"stim\"].set_title(\"Stimulus Frame\")\n",
    "\n",
    "# Plot the spike counts\n",
    "ax[\"responses\"].plot(c, label=\"Spike count\")\n",
    "ax[\"responses\"].set_xlabel(\"Time Bins\")\n",
    "ax[\"responses\"].set_ylabel(\"Spike Count\")\n",
    "ax[\"responses\"].legend()\n",
    "ax[\"responses\"].set_title(\"Spike Counts Over Time\")\n",
    "\n",
    "# Plot the firing rate\n",
    "ax[\"count/rate\"].scatter(r.flatten(), c.flatten(), label=\"Firing rate\", color=\"red\")\n",
    "ax[\"count/rate\"].set_xlabel(\"Time Bins\")\n",
    "ax[\"count/rate\"].set_ylabel(\"Firing rate\")\n",
    "ax[\"count/rate\"].legend()\n",
    "ax[\"count/rate\"].set_title(\"Firing Rate\")\n",
    "\n",
    "plt.tight_layout()\n",
    "plt.show()"
   ]
  },
  {
   "cell_type": "markdown",
   "metadata": {},
   "source": [
    "### Implementation \n",
    "\n",
    "Implement the negative log-likelihood of the LNP and its gradient with respect to the receptive field using the simplified equations you calculated earlier _(0.5 pts)_"
   ]
  },
  {
   "cell_type": "code",
   "execution_count": 40,
   "metadata": {},
   "outputs": [],
   "source": [
    "def negloglike_lnp(\n",
    "    w: np.array, c: np.array, s: np.array, dt: float = 0.1, R: float = 50\n",
    ") -> float:\n",
    "    \"\"\"Implements the negative (!) log-likelihood of the LNP model\n",
    "\n",
    "    Parameters\n",
    "    ----------\n",
    "\n",
    "    w: np.array, (Dx * Dy, )\n",
    "      current receptive field\n",
    "\n",
    "    c: np.array, (nT, )\n",
    "      spike counts\n",
    "\n",
    "    s: np.array, (Dx * Dy, nT)\n",
    "      stimulus matrix\n",
    "\n",
    "\n",
    "    Returns\n",
    "    -------\n",
    "\n",
    "    f: float\n",
    "      function value of the negative log likelihood at w\n",
    "\n",
    "    \"\"\"\n",
    "\n",
    "    # ------------------------------------------------\n",
    "    # Implement the negative log-likelihood of the LNP\n",
    "    # ------------------------------------------------\n",
    "\n",
    "    r = np.exp(w @ s) * dt * R\n",
    "    f = -np.sum((c * np.log(r)) - r)\n",
    "    return f\n",
    "\n",
    "\n",
    "def deriv_negloglike_lnp(\n",
    "    w: np.array, c: np.array, s: np.array, dt: float = 0.1, R: float = 50\n",
    ") -> np.array:\n",
    "    \"\"\"Implements the gradient of the negative log-likelihood of the LNP model\n",
    "\n",
    "    Parameters\n",
    "    ----------\n",
    "\n",
    "    see negloglike_lnp\n",
    "\n",
    "    Returns\n",
    "    -------\n",
    "\n",
    "    df: np.array, (Dx * Dy, )\n",
    "      gradient of the negative log likelihood with respect to w\n",
    "\n",
    "    \"\"\"\n",
    "\n",
    "    # --------------------------------------------------------------\n",
    "    # Implement the gradient with respect to the receptive field `w`\n",
    "    # --------------------------------------------------------------\n",
    "\n",
    "    r = np.exp(w @ s) * dt * R\n",
    "    grad = s @ (c - r).T\n",
    "    df = -grad\n",
    "    return df"
   ]
  },
  {
   "cell_type": "markdown",
   "metadata": {},
   "source": [
    "The helper function `check_grad` in `scipy.optimize` can help you to make sure your equations and implementations are correct. It might be helpful to validate the gradient before you run your optimizer."
   ]
  },
  {
   "cell_type": "code",
   "execution_count": null,
   "metadata": {},
   "outputs": [],
   "source": [
    "# Check gradient\n",
    "# insert your code here"
   ]
  },
  {
   "cell_type": "markdown",
   "metadata": {},
   "source": [
    "Fit receptive field maximizing the log likelihood.\n",
    "\n",
    "The scipy.optimize package also has suitable functions for optimization. If you generate a large number of samples, the fitted receptive field will look more similar to the true receptive field. With more samples, the optimization takes longer, however."
   ]
  },
  {
   "cell_type": "code",
   "execution_count": 41,
   "metadata": {},
   "outputs": [
    {
     "ename": "IndexError",
     "evalue": "invalid index to scalar variable.",
     "output_type": "error",
     "traceback": [
      "\u001b[0;31m---------------------------------------------------------------------------\u001b[0m",
      "\u001b[0;31mIndexError\u001b[0m                                Traceback (most recent call last)",
      "Cell \u001b[0;32mIn[41], line 15\u001b[0m\n\u001b[1;32m     13\u001b[0m func \u001b[38;5;241m=\u001b[39m \u001b[38;5;28;01mlambda\u001b[39;00m x: negloglike_lnp(x, c, s, dt, R)[\u001b[38;5;241m0\u001b[39m]\n\u001b[1;32m     14\u001b[0m grad \u001b[38;5;241m=\u001b[39m \u001b[38;5;28;01mlambda\u001b[39;00m x: negloglike_lnp(x, c, s, dt, R)[\u001b[38;5;241m1\u001b[39m]\u001b[38;5;241m.\u001b[39mflatten()\n\u001b[0;32m---> 15\u001b[0m \u001b[38;5;28mprint\u001b[39m(check_grad(func, grad, w))\n\u001b[1;32m     17\u001b[0m result \u001b[38;5;241m=\u001b[39m opt\u001b[38;5;241m.\u001b[39mminimize(negloglike_lnp, w, args\u001b[38;5;241m=\u001b[39m(c, s), jac\u001b[38;5;241m=\u001b[39m\u001b[38;5;28;01mTrue\u001b[39;00m)\n\u001b[1;32m     18\u001b[0m w_hat \u001b[38;5;241m=\u001b[39m result\u001b[38;5;241m.\u001b[39mx\n",
      "File \u001b[0;32m~/anaconda3/lib/python3.11/site-packages/scipy/optimize/_optimize.py:1178\u001b[0m, in \u001b[0;36mcheck_grad\u001b[0;34m(func, grad, x0, epsilon, direction, seed, *args)\u001b[0m\n\u001b[1;32m   1176\u001b[0m     _func \u001b[38;5;241m=\u001b[39m func\n\u001b[1;32m   1177\u001b[0m     \u001b[38;5;28mvars\u001b[39m \u001b[38;5;241m=\u001b[39m x0\n\u001b[0;32m-> 1178\u001b[0m     analytical_grad \u001b[38;5;241m=\u001b[39m grad(x0, \u001b[38;5;241m*\u001b[39margs)\n\u001b[1;32m   1179\u001b[0m \u001b[38;5;28;01melse\u001b[39;00m:\n\u001b[1;32m   1180\u001b[0m     \u001b[38;5;28;01mraise\u001b[39;00m \u001b[38;5;167;01mValueError\u001b[39;00m(\u001b[38;5;124m\"\u001b[39m\u001b[38;5;132;01m{}\u001b[39;00m\u001b[38;5;124m is not a valid string for \u001b[39m\u001b[38;5;124m\"\u001b[39m\n\u001b[1;32m   1181\u001b[0m                      \u001b[38;5;124m\"\u001b[39m\u001b[38;5;124m``direction`` argument\u001b[39m\u001b[38;5;124m\"\u001b[39m\u001b[38;5;241m.\u001b[39mformat(direction))\n",
      "Cell \u001b[0;32mIn[41], line 14\u001b[0m, in \u001b[0;36m<lambda>\u001b[0;34m(x)\u001b[0m\n\u001b[1;32m     11\u001b[0m \u001b[38;5;28;01mfrom\u001b[39;00m \u001b[38;5;21;01mscipy\u001b[39;00m\u001b[38;5;21;01m.\u001b[39;00m\u001b[38;5;21;01moptimize\u001b[39;00m \u001b[38;5;28;01mimport\u001b[39;00m check_grad\n\u001b[1;32m     13\u001b[0m func \u001b[38;5;241m=\u001b[39m \u001b[38;5;28;01mlambda\u001b[39;00m x: negloglike_lnp(x, c, s, dt, R)[\u001b[38;5;241m0\u001b[39m]\n\u001b[0;32m---> 14\u001b[0m grad \u001b[38;5;241m=\u001b[39m \u001b[38;5;28;01mlambda\u001b[39;00m x: negloglike_lnp(x, c, s, dt, R)[\u001b[38;5;241m1\u001b[39m]\u001b[38;5;241m.\u001b[39mflatten()\n\u001b[1;32m     15\u001b[0m \u001b[38;5;28mprint\u001b[39m(check_grad(func, grad, w))\n\u001b[1;32m     17\u001b[0m result \u001b[38;5;241m=\u001b[39m opt\u001b[38;5;241m.\u001b[39mminimize(negloglike_lnp, w, args\u001b[38;5;241m=\u001b[39m(c, s), jac\u001b[38;5;241m=\u001b[39m\u001b[38;5;28;01mTrue\u001b[39;00m)\n",
      "\u001b[0;31mIndexError\u001b[0m: invalid index to scalar variable."
     ]
    }
   ],
   "source": [
    "# insert your code here\n",
    "\n",
    "# ------------------------------------------\n",
    "# Estimate the receptive field by maximizing\n",
    "# the log-likelihood (or more commonly,\n",
    "# minimizing the negative log-likelihood).\n",
    "#\n",
    "# Tips: use scipy.optimize.minimize(). (1 pt)\n",
    "# ------------------------------------------\n",
    "\n",
    "from scipy.optimize import check_grad\n",
    "\n",
    "func = lambda x: negloglike_lnp(x, c, s, dt, R)[0]\n",
    "grad = lambda x: negloglike_lnp(x, c, s, dt, R)[1].flatten()\n",
    "print(check_grad(func, grad, w))\n",
    "\n",
    "result = opt.minimize(negloglike_lnp, w, args=(c, s), jac=True)\n",
    "w_hat = result.x"
   ]
  },
  {
   "cell_type": "code",
   "execution_count": 42,
   "metadata": {},
   "outputs": [
    {
     "ename": "NameError",
     "evalue": "name 'w_hat' is not defined",
     "output_type": "error",
     "traceback": [
      "\u001b[0;31m---------------------------------------------------------------------------\u001b[0m",
      "\u001b[0;31mNameError\u001b[0m                                 Traceback (most recent call last)",
      "Cell \u001b[0;32mIn[42], line 18\u001b[0m\n\u001b[1;32m     15\u001b[0m fig\u001b[38;5;241m.\u001b[39mcolorbar(im, ax\u001b[38;5;241m=\u001b[39max[\u001b[38;5;124m\"\u001b[39m\u001b[38;5;124mTrue\u001b[39m\u001b[38;5;124m\"\u001b[39m])\n\u001b[1;32m     17\u001b[0m \u001b[38;5;66;03m# Plot the estimated receptive field\u001b[39;00m\n\u001b[0;32m---> 18\u001b[0m w_hat_reshaped \u001b[38;5;241m=\u001b[39m w_hat\u001b[38;5;241m.\u001b[39mreshape((\u001b[38;5;241m15\u001b[39m, \u001b[38;5;241m15\u001b[39m))\n\u001b[1;32m     19\u001b[0m im \u001b[38;5;241m=\u001b[39m ax[\u001b[38;5;124m\"\u001b[39m\u001b[38;5;124mEstimated\u001b[39m\u001b[38;5;124m\"\u001b[39m]\u001b[38;5;241m.\u001b[39mimshow(w_hat_reshaped, cmap\u001b[38;5;241m=\u001b[39m\u001b[38;5;124m\"\u001b[39m\u001b[38;5;124mbwr\u001b[39m\u001b[38;5;124m\"\u001b[39m)\n\u001b[1;32m     20\u001b[0m ax[\u001b[38;5;124m\"\u001b[39m\u001b[38;5;124mEstimated\u001b[39m\u001b[38;5;124m\"\u001b[39m]\u001b[38;5;241m.\u001b[39mset_title(\u001b[38;5;124m\"\u001b[39m\u001b[38;5;124mEstimated receptive field\u001b[39m\u001b[38;5;124m\"\u001b[39m)\n",
      "\u001b[0;31mNameError\u001b[0m: name 'w_hat' is not defined"
     ]
    },
    {
     "data": {
      "image/png": "[encoded data removed]",
      "text/plain": [
       "<Figure size 1200x500 with 3 Axes>"
      ]
     },
     "metadata": {},
     "output_type": "display_data"
    }
   ],
   "source": [
    "# insert your code here\n",
    "\n",
    "# ------------------------------------\n",
    "# Plot the ground truth and estimated\n",
    "# `w` side by side. (0.5 pts)\n",
    "# ------------------------------------\n",
    "\n",
    "mosaic = [[\"True\", \"Estimated\"]]\n",
    "fig, ax = plt.subplot_mosaic(mosaic=mosaic, figsize=(12, 5))\n",
    "\n",
    "# True receptive field\n",
    "im0 = ax[\"True\"].imshow(w_true, cmap=\"bwr\")\n",
    "ax[\"True\"].set_title(\"True Receptive Field\")\n",
    "ax[\"True\"].axis('off')\n",
    "fig.colorbar(im0, ax=ax[\"True\"])\n",
    "\n",
    "# Estimated receptive field\n",
    "w_est_reshaped = w_est.reshape(D, D)\n",
    "vlim = np.max(np.abs(w_est_reshaped))\n",
    "im1 = ax[\"Estimated\"].imshow(w_est_reshaped, cmap=\"bwr\", vmin=-vlim, vmax=vlim)\n",
    "ax[\"Estimated\"].set_title(\"Estimated Receptive Field\")\n",
    "ax[\"Estimated\"].axis('off')\n",
    "fig.colorbar(im1, ax=ax[\"Estimated\"])\n",
    "\n",
    "plt.show()\n",
    "\n",
    "# make sure to add a colorbar. 'bwr' is a reasonable choice for the cmap."
   ]
  },
  {
   "cell_type": "markdown",
   "metadata": {},
   "source": [
    "## Task 2: Apply to real neuron\n",
    "\n",
    "Download the dataset for this task from Ilias (`nds_cl_5_data.mat`). It contains a stimulus matrix (`s`) in the same format you used before and the spike times. In addition, there is an array called `trigger` which contains the times at which the stimulus frames were swapped.\n",
    "\n",
    "* Generate an array of spike counts at the same temporal resolution as the stimulus frames\n",
    "* Fit the receptive field with time lags of 0 to 4 frames. Fit them one lag at a time (the ML fit is very sensitive to the number of parameters estimated and will not produce good results if you fit the full space-time receptive field for more than two time lags at once). \n",
    "* Plot the resulting filters\n",
    "\n",
    "*Grading: 2 pts*\n"
   ]
  },
  {
   "cell_type": "code",
   "execution_count": 45,
   "metadata": {},
   "outputs": [],
   "source": [
    "var = io.loadmat(\n",
    "    \"/Users/kubraozdemir/Downloads/Neural Data Science/CL5/nds_cl_5_data.mat\"\n",
    ")\n",
    "\n",
    "# t contains the spike times of the neuron\n",
    "t = var[\"DN_spiketimes\"].flatten()\n",
    "\n",
    "# trigger contains the times at which the stimulus flipped\n",
    "trigger = var[\"DN_triggertimes\"].flatten()\n",
    "\n",
    "# contains the stimulus movie with black and white pixels\n",
    "s = var[\"DN_stim\"]\n",
    "s = s.reshape((300, 1500))  # the shape of each frame is (20, 15)\n",
    "s = s[:, 1 : len(trigger)]"
   ]
  },
  {
   "cell_type": "markdown",
   "metadata": {},
   "source": [
    "Create vector of spike counts"
   ]
  },
  {
   "cell_type": "code",
   "execution_count": 46,
   "metadata": {},
   "outputs": [],
   "source": [
    "# insert your code here\n",
    "\n",
    "# ------------------------------------------\n",
    "# Bin the spike counts at the same temporal\n",
    "# resolution as the stimulus (0.5 pts)\n",
    "# ------------------------------------------\n",
    "\n",
    "c, b = np.histogram(t, bins=trigger)"
   ]
  },
  {
   "cell_type": "markdown",
   "metadata": {},
   "source": [
    "Fit receptive field for each frame separately"
   ]
  },
  {
   "cell_type": "code",
   "execution_count": 54,
   "metadata": {},
   "outputs": [
    {
     "name": "stdout",
     "output_type": "stream",
     "text": [
      "Fitting for lag: 0\n",
      "Fitting for lag: 1\n"
     ]
    },
    {
     "name": "stderr",
     "output_type": "stream",
     "text": [
      "/var/folders/n5/j19jndm90jx7nmcl1rs908nm0000gn/T/ipykernel_72387/388661174.py:31: RuntimeWarning: overflow encountered in exp\n",
      "  r = np.exp(w @ s) * dt * R\n",
      "/var/folders/n5/j19jndm90jx7nmcl1rs908nm0000gn/T/ipykernel_72387/388661174.py:32: RuntimeWarning: divide by zero encountered in log\n",
      "  f = -np.sum((c * np.log(r)) - r)\n",
      "/var/folders/n5/j19jndm90jx7nmcl1rs908nm0000gn/T/ipykernel_72387/388661174.py:32: RuntimeWarning: invalid value encountered in multiply\n",
      "  f = -np.sum((c * np.log(r)) - r)\n",
      "/var/folders/n5/j19jndm90jx7nmcl1rs908nm0000gn/T/ipykernel_72387/388661174.py:32: RuntimeWarning: invalid value encountered in subtract\n",
      "  f = -np.sum((c * np.log(r)) - r)\n",
      "/var/folders/n5/j19jndm90jx7nmcl1rs908nm0000gn/T/ipykernel_72387/388661174.py:58: RuntimeWarning: overflow encountered in exp\n",
      "  r = np.exp(w @ s) * dt * R\n",
      "/var/folders/n5/j19jndm90jx7nmcl1rs908nm0000gn/T/ipykernel_72387/388661174.py:59: RuntimeWarning: invalid value encountered in matmul\n",
      "  grad = s @ (c - r).T\n",
      "/var/folders/n5/j19jndm90jx7nmcl1rs908nm0000gn/T/ipykernel_72387/388661174.py:31: RuntimeWarning: overflow encountered in exp\n",
      "  r = np.exp(w @ s) * dt * R\n",
      "/var/folders/n5/j19jndm90jx7nmcl1rs908nm0000gn/T/ipykernel_72387/388661174.py:32: RuntimeWarning: divide by zero encountered in log\n",
      "  f = -np.sum((c * np.log(r)) - r)\n",
      "/var/folders/n5/j19jndm90jx7nmcl1rs908nm0000gn/T/ipykernel_72387/388661174.py:32: RuntimeWarning: invalid value encountered in multiply\n",
      "  f = -np.sum((c * np.log(r)) - r)\n",
      "/var/folders/n5/j19jndm90jx7nmcl1rs908nm0000gn/T/ipykernel_72387/388661174.py:32: RuntimeWarning: invalid value encountered in subtract\n",
      "  f = -np.sum((c * np.log(r)) - r)\n",
      "/var/folders/n5/j19jndm90jx7nmcl1rs908nm0000gn/T/ipykernel_72387/388661174.py:58: RuntimeWarning: overflow encountered in exp\n",
      "  r = np.exp(w @ s) * dt * R\n",
      "/var/folders/n5/j19jndm90jx7nmcl1rs908nm0000gn/T/ipykernel_72387/388661174.py:59: RuntimeWarning: invalid value encountered in matmul\n",
      "  grad = s @ (c - r).T\n",
      "/var/folders/n5/j19jndm90jx7nmcl1rs908nm0000gn/T/ipykernel_72387/388661174.py:58: RuntimeWarning: overflow encountered in exp\n",
      "  r = np.exp(w @ s) * dt * R\n",
      "/var/folders/n5/j19jndm90jx7nmcl1rs908nm0000gn/T/ipykernel_72387/388661174.py:59: RuntimeWarning: invalid value encountered in matmul\n",
      "  grad = s @ (c - r).T\n",
      "/var/folders/n5/j19jndm90jx7nmcl1rs908nm0000gn/T/ipykernel_72387/388661174.py:31: RuntimeWarning: overflow encountered in exp\n",
      "  r = np.exp(w @ s) * dt * R\n",
      "/var/folders/n5/j19jndm90jx7nmcl1rs908nm0000gn/T/ipykernel_72387/388661174.py:32: RuntimeWarning: divide by zero encountered in log\n",
      "  f = -np.sum((c * np.log(r)) - r)\n",
      "/var/folders/n5/j19jndm90jx7nmcl1rs908nm0000gn/T/ipykernel_72387/388661174.py:32: RuntimeWarning: invalid value encountered in multiply\n",
      "  f = -np.sum((c * np.log(r)) - r)\n",
      "/var/folders/n5/j19jndm90jx7nmcl1rs908nm0000gn/T/ipykernel_72387/388661174.py:31: RuntimeWarning: overflow encountered in exp\n",
      "  r = np.exp(w @ s) * dt * R\n",
      "/var/folders/n5/j19jndm90jx7nmcl1rs908nm0000gn/T/ipykernel_72387/388661174.py:32: RuntimeWarning: divide by zero encountered in log\n",
      "  f = -np.sum((c * np.log(r)) - r)\n",
      "/var/folders/n5/j19jndm90jx7nmcl1rs908nm0000gn/T/ipykernel_72387/388661174.py:32: RuntimeWarning: invalid value encountered in multiply\n",
      "  f = -np.sum((c * np.log(r)) - r)\n",
      "/var/folders/n5/j19jndm90jx7nmcl1rs908nm0000gn/T/ipykernel_72387/388661174.py:58: RuntimeWarning: overflow encountered in exp\n",
      "  r = np.exp(w @ s) * dt * R\n",
      "/var/folders/n5/j19jndm90jx7nmcl1rs908nm0000gn/T/ipykernel_72387/388661174.py:59: RuntimeWarning: invalid value encountered in matmul\n",
      "  grad = s @ (c - r).T\n",
      "/var/folders/n5/j19jndm90jx7nmcl1rs908nm0000gn/T/ipykernel_72387/388661174.py:58: RuntimeWarning: overflow encountered in exp\n",
      "  r = np.exp(w @ s) * dt * R\n",
      "/var/folders/n5/j19jndm90jx7nmcl1rs908nm0000gn/T/ipykernel_72387/388661174.py:59: RuntimeWarning: invalid value encountered in matmul\n",
      "  grad = s @ (c - r).T\n",
      "/var/folders/n5/j19jndm90jx7nmcl1rs908nm0000gn/T/ipykernel_72387/388661174.py:31: RuntimeWarning: overflow encountered in exp\n",
      "  r = np.exp(w @ s) * dt * R\n",
      "/var/folders/n5/j19jndm90jx7nmcl1rs908nm0000gn/T/ipykernel_72387/388661174.py:32: RuntimeWarning: divide by zero encountered in log\n",
      "  f = -np.sum((c * np.log(r)) - r)\n",
      "/var/folders/n5/j19jndm90jx7nmcl1rs908nm0000gn/T/ipykernel_72387/388661174.py:32: RuntimeWarning: invalid value encountered in multiply\n",
      "  f = -np.sum((c * np.log(r)) - r)\n",
      "/var/folders/n5/j19jndm90jx7nmcl1rs908nm0000gn/T/ipykernel_72387/388661174.py:32: RuntimeWarning: invalid value encountered in subtract\n",
      "  f = -np.sum((c * np.log(r)) - r)\n",
      "/var/folders/n5/j19jndm90jx7nmcl1rs908nm0000gn/T/ipykernel_72387/388661174.py:31: RuntimeWarning: overflow encountered in exp\n",
      "  r = np.exp(w @ s) * dt * R\n",
      "/var/folders/n5/j19jndm90jx7nmcl1rs908nm0000gn/T/ipykernel_72387/388661174.py:32: RuntimeWarning: divide by zero encountered in log\n",
      "  f = -np.sum((c * np.log(r)) - r)\n",
      "/var/folders/n5/j19jndm90jx7nmcl1rs908nm0000gn/T/ipykernel_72387/388661174.py:32: RuntimeWarning: invalid value encountered in multiply\n",
      "  f = -np.sum((c * np.log(r)) - r)\n",
      "/var/folders/n5/j19jndm90jx7nmcl1rs908nm0000gn/T/ipykernel_72387/388661174.py:32: RuntimeWarning: invalid value encountered in subtract\n",
      "  f = -np.sum((c * np.log(r)) - r)\n",
      "/var/folders/n5/j19jndm90jx7nmcl1rs908nm0000gn/T/ipykernel_72387/388661174.py:58: RuntimeWarning: overflow encountered in exp\n",
      "  r = np.exp(w @ s) * dt * R\n",
      "/var/folders/n5/j19jndm90jx7nmcl1rs908nm0000gn/T/ipykernel_72387/388661174.py:59: RuntimeWarning: invalid value encountered in matmul\n",
      "  grad = s @ (c - r).T\n",
      "/var/folders/n5/j19jndm90jx7nmcl1rs908nm0000gn/T/ipykernel_72387/388661174.py:58: RuntimeWarning: overflow encountered in exp\n",
      "  r = np.exp(w @ s) * dt * R\n",
      "/var/folders/n5/j19jndm90jx7nmcl1rs908nm0000gn/T/ipykernel_72387/388661174.py:59: RuntimeWarning: invalid value encountered in matmul\n",
      "  grad = s @ (c - r).T\n",
      "/var/folders/n5/j19jndm90jx7nmcl1rs908nm0000gn/T/ipykernel_72387/388661174.py:31: RuntimeWarning: overflow encountered in exp\n",
      "  r = np.exp(w @ s) * dt * R\n",
      "/var/folders/n5/j19jndm90jx7nmcl1rs908nm0000gn/T/ipykernel_72387/388661174.py:32: RuntimeWarning: divide by zero encountered in log\n",
      "  f = -np.sum((c * np.log(r)) - r)\n",
      "/var/folders/n5/j19jndm90jx7nmcl1rs908nm0000gn/T/ipykernel_72387/388661174.py:32: RuntimeWarning: invalid value encountered in multiply\n",
      "  f = -np.sum((c * np.log(r)) - r)\n",
      "/var/folders/n5/j19jndm90jx7nmcl1rs908nm0000gn/T/ipykernel_72387/388661174.py:32: RuntimeWarning: invalid value encountered in subtract\n",
      "  f = -np.sum((c * np.log(r)) - r)\n"
     ]
    },
    {
     "name": "stdout",
     "output_type": "stream",
     "text": [
      "Fitting for lag: 2\n",
      "Fitting for lag: 3\n"
     ]
    },
    {
     "name": "stderr",
     "output_type": "stream",
     "text": [
      "/var/folders/n5/j19jndm90jx7nmcl1rs908nm0000gn/T/ipykernel_72387/388661174.py:31: RuntimeWarning: overflow encountered in exp\n",
      "  r = np.exp(w @ s) * dt * R\n",
      "/var/folders/n5/j19jndm90jx7nmcl1rs908nm0000gn/T/ipykernel_72387/388661174.py:32: RuntimeWarning: divide by zero encountered in log\n",
      "  f = -np.sum((c * np.log(r)) - r)\n",
      "/var/folders/n5/j19jndm90jx7nmcl1rs908nm0000gn/T/ipykernel_72387/388661174.py:32: RuntimeWarning: invalid value encountered in multiply\n",
      "  f = -np.sum((c * np.log(r)) - r)\n",
      "/var/folders/n5/j19jndm90jx7nmcl1rs908nm0000gn/T/ipykernel_72387/388661174.py:32: RuntimeWarning: invalid value encountered in subtract\n",
      "  f = -np.sum((c * np.log(r)) - r)\n",
      "/var/folders/n5/j19jndm90jx7nmcl1rs908nm0000gn/T/ipykernel_72387/388661174.py:58: RuntimeWarning: overflow encountered in exp\n",
      "  r = np.exp(w @ s) * dt * R\n",
      "/var/folders/n5/j19jndm90jx7nmcl1rs908nm0000gn/T/ipykernel_72387/388661174.py:59: RuntimeWarning: invalid value encountered in matmul\n",
      "  grad = s @ (c - r).T\n",
      "/var/folders/n5/j19jndm90jx7nmcl1rs908nm0000gn/T/ipykernel_72387/388661174.py:58: RuntimeWarning: overflow encountered in exp\n",
      "  r = np.exp(w @ s) * dt * R\n",
      "/var/folders/n5/j19jndm90jx7nmcl1rs908nm0000gn/T/ipykernel_72387/388661174.py:59: RuntimeWarning: invalid value encountered in matmul\n",
      "  grad = s @ (c - r).T\n",
      "/var/folders/n5/j19jndm90jx7nmcl1rs908nm0000gn/T/ipykernel_72387/388661174.py:31: RuntimeWarning: overflow encountered in exp\n",
      "  r = np.exp(w @ s) * dt * R\n",
      "/var/folders/n5/j19jndm90jx7nmcl1rs908nm0000gn/T/ipykernel_72387/388661174.py:32: RuntimeWarning: divide by zero encountered in log\n",
      "  f = -np.sum((c * np.log(r)) - r)\n",
      "/var/folders/n5/j19jndm90jx7nmcl1rs908nm0000gn/T/ipykernel_72387/388661174.py:32: RuntimeWarning: invalid value encountered in multiply\n",
      "  f = -np.sum((c * np.log(r)) - r)\n",
      "/var/folders/n5/j19jndm90jx7nmcl1rs908nm0000gn/T/ipykernel_72387/388661174.py:32: RuntimeWarning: invalid value encountered in subtract\n",
      "  f = -np.sum((c * np.log(r)) - r)\n"
     ]
    },
    {
     "name": "stdout",
     "output_type": "stream",
     "text": [
      "Fitting for lag: 4\n"
     ]
    },
    {
     "name": "stderr",
     "output_type": "stream",
     "text": [
      "/var/folders/n5/j19jndm90jx7nmcl1rs908nm0000gn/T/ipykernel_72387/388661174.py:31: RuntimeWarning: overflow encountered in exp\n",
      "  r = np.exp(w @ s) * dt * R\n",
      "/var/folders/n5/j19jndm90jx7nmcl1rs908nm0000gn/T/ipykernel_72387/388661174.py:32: RuntimeWarning: divide by zero encountered in log\n",
      "  f = -np.sum((c * np.log(r)) - r)\n",
      "/var/folders/n5/j19jndm90jx7nmcl1rs908nm0000gn/T/ipykernel_72387/388661174.py:32: RuntimeWarning: invalid value encountered in multiply\n",
      "  f = -np.sum((c * np.log(r)) - r)\n",
      "/var/folders/n5/j19jndm90jx7nmcl1rs908nm0000gn/T/ipykernel_72387/388661174.py:32: RuntimeWarning: invalid value encountered in subtract\n",
      "  f = -np.sum((c * np.log(r)) - r)\n",
      "/var/folders/n5/j19jndm90jx7nmcl1rs908nm0000gn/T/ipykernel_72387/388661174.py:58: RuntimeWarning: overflow encountered in exp\n",
      "  r = np.exp(w @ s) * dt * R\n",
      "/var/folders/n5/j19jndm90jx7nmcl1rs908nm0000gn/T/ipykernel_72387/388661174.py:59: RuntimeWarning: invalid value encountered in matmul\n",
      "  grad = s @ (c - r).T\n",
      "/var/folders/n5/j19jndm90jx7nmcl1rs908nm0000gn/T/ipykernel_72387/388661174.py:58: RuntimeWarning: overflow encountered in exp\n",
      "  r = np.exp(w @ s) * dt * R\n",
      "/var/folders/n5/j19jndm90jx7nmcl1rs908nm0000gn/T/ipykernel_72387/388661174.py:59: RuntimeWarning: invalid value encountered in matmul\n",
      "  grad = s @ (c - r).T\n"
     ]
    }
   ],
   "source": [
    "# insert your code here\n",
    "\n",
    "# ------------------------------------------\n",
    "# Fit the receptive field with time lags of\n",
    "# 0 to 4 frames separately (1 pt)\n",
    "#\n",
    "# The final receptive field (`w_hat`) should\n",
    "# be in the shape of (Dx * Dy, 5)\n",
    "# ------------------------------------------\n",
    "\n",
    "# specify the time lags\n",
    "delta = [0, 1, 2, 3, 4]\n",
    "\n",
    "# fit for each delay\n",
    "dt = np.diff(trigger)\n",
    "lags = range(5)\n",
    "\n",
    "w_hat = np.zeros((s.shape[0], len(lags)))\n",
    "\n",
    "# Fit receptive fields for each lag using enumerate\n",
    "for lag, lag_value in enumerate(lags):\n",
    "    print(f\"Fitting for lag: {lag_value}\")\n",
    "    x0 = np.random.uniform(low=0, high=1, size=s.shape[0]).flatten()\n",
    "\n",
    "    if lag_value > 0:\n",
    "        c_lagged = c[lag_value:]\n",
    "        s_lagged = s[:, :-lag_value]\n",
    "        dt_lagged = dt[:-lag_value]\n",
    "    else:\n",
    "        c_lagged = c\n",
    "        s_lagged = s\n",
    "        dt_lagged = dt\n",
    "\n",
    "    # Minimize the negative log-likelihood\n",
    "    result = opt.minimize(\n",
    "        fun=negloglike_lnp,\n",
    "        jac=deriv_negloglike_lnp,\n",
    "        x0=x0,\n",
    "        args=(c_lagged, s_lagged, dt_lagged, R),\n",
    "        method=\"BFGS\",\n",
    "    )\n",
    "    w_hat[:, lag] = result.x"
   ]
  },
  {
   "cell_type": "markdown",
   "metadata": {},
   "source": [
    "Plot the frames one by one"
   ]
  },
  {
   "cell_type": "code",
   "execution_count": 59,
   "metadata": {},
   "outputs": [
    {
     "data": {
      "image/png": "[encoded data removed]",
      "text/plain": [
       "<Figure size 1000x400 with 10 Axes>"
      ]
     },
     "metadata": {},
     "output_type": "display_data"
    }
   ],
   "source": [
    "# insert your code here\n",
    "\n",
    "# --------------------------------------------\n",
    "# Plot all 5 frames of the fitted RFs (0.5 pt)\n",
    "# --------------------------------------------\n",
    "\n",
    "fig, ax = plt.subplot_mosaic(mosaic=[delta], figsize=(10, 4), constrained_layout=True)\n",
    "\n",
    "\n",
    "for i, lag in enumerate(lags):\n",
    "    rf = w_hat[:, i].reshape((20, 15))\n",
    "    vlim = np.max(np.abs(rf))\n",
    "    im = ax[i].imshow(rf, cmap=\"bwr\", vmin=-vlim, vmax=vlim)\n",
    "    ax[i].set_title(f\"Lag {lag}\")\n",
    "    ax[i].axis(\"off\")\n",
    "    fig.colorbar(im, ax=ax[i])\n",
    "\n",
    "plt.show()"
   ]
  },
  {
   "cell_type": "markdown",
   "metadata": {},
   "source": [
    "## Task 3: Separate space/time components\n",
    "\n",
    "The receptive field of the neuron can be decomposed into a spatial and a temporal component. Because of the way we computed them, both are independent and the resulting spatio-temporal component is thus called separable. As discussed in the lecture, you can use singular-value decomposition to separate these two: \n",
    "\n",
    "$$\n",
    "W = u_1 s_1 v_1^T\n",
    "$$\n",
    "\n",
    "Here $u_1$ and $v_1$ are the singular vectors belonging to the 1st singular value $s_1$ and provide a long rank approximation of W, the array with all receptive fields. It is important that the mean is subtracted before computing the SVD.  \n",
    "\n",
    "Plot the first temporal component and the first spatial component. You can use a Python implementation of SVD. The results can look a bit puzzling, because the sign of the components is arbitrary.\n",
    "\n",
    "*Grading: 1 pts*"
   ]
  },
  {
   "cell_type": "code",
   "execution_count": null,
   "metadata": {},
   "outputs": [],
   "source": [
    "# insert your code here\n",
    "\n",
    "# --------------------------------------------\n",
    "# Apply SVD to the fitted receptive field,\n",
    "# you can use either numpy or sklearn (0.5 pt)\n",
    "# --------------------------------------------\n",
    "\n",
    "# shape of w_hat: (300,5).\n",
    "# subtract mean along axis=1 (time) since for every timelag the RF is estimated independently\n",
    "\n",
    "# -------------------------------------------------\n",
    "# Plot the spatial and temporal components (0.5 pt)\n",
    "# -------------------------------------------------\n",
    "\n",
    "fig, ax = plt.subplot_mosaic(\n",
    "    mosaic=[[\"Spatial\", \"Temporal\"]], figsize=(10, 4), constrained_layout=True\n",
    ")\n",
    "# add plot"
   ]
  },
  {
   "cell_type": "markdown",
   "metadata": {},
   "source": [
    "## Task 4: Regularized receptive field\n",
    "\n",
    "As you can see, maximum likelihood estimation of linear receptive fields can be quite noisy, if little data is available. \n",
    "\n",
    "To improve on this, one can regularize the receptive field vector and a term to the cost function\n",
    "\n",
    "\n",
    "$$\n",
    "C(w) = L(w) + \\alpha ||w||_p^2\n",
    "$$\n",
    "\n",
    "Here, the $p$ indicates which norm of $w$ is used: for $p=2$, this is shrinks all coefficient equally to zero; for $p=1$, it favors sparse solutions, a penality also known as lasso. Because the 1-norm is not smooth at zero, it is not as straightforward to implement \"by hand\". \n",
    "\n",
    "Use a toolbox with an implementation of the lasso-penalization and fit the receptive field. Possibly, you will have to try different values of the regularization parameter $\\alpha$. Plot your estimates from above and the lasso-estimates. How do they differ? What happens when you increase or decrease $alpha$?\n",
    "\n",
    "If you want to keep the Poisson noise model, you can use the implementation in [`pyglmnet`](https://pypi.python.org/pypi/pyglmnet). Otherwise, you can also resort to the linear model from `sklearn` which assumes Gaussian noise (which in my hands was much faster).\n",
    "\n",
    "*Grading: 2 pts*\n"
   ]
  },
  {
   "cell_type": "code",
   "execution_count": null,
   "metadata": {},
   "outputs": [],
   "source": [
    "from sklearn import linear_model\n",
    "\n",
    "# insert your code here\n",
    "\n",
    "# ------------------------------------------\n",
    "# Fit the receptive field with time lags of\n",
    "# 0 to 4 frames separately (the same as before)\n",
    "# with sklern or pyglmnet (1 pt)\n",
    "# ------------------------------------------\n",
    "\n",
    "delta = [0, 1, 2, 3, 4]"
   ]
  },
  {
   "cell_type": "code",
   "execution_count": null,
   "metadata": {},
   "outputs": [],
   "source": [
    "# ------------------------------------------\n",
    "# plot the estimated receptive fields (1 pt)\n",
    "# ------------------------------------------\n",
    "\n",
    "fig, ax = plt.subplot_mosaic(mosaic=[delta], figsize=(10, 4), constrained_layout=True)\n",
    "# add plot"
   ]
  }
 ],
 "metadata": {
  "kernelspec": {
   "display_name": "Python 3 (ipykernel)",
   "language": "python",
   "name": "python3"
  },
  "language_info": {
   "codemirror_mode": {
    "name": "ipython",
    "version": 3
   },
   "file_extension": ".py",
   "mimetype": "text/x-python",
   "name": "python",
   "nbconvert_exporter": "python",
   "pygments_lexer": "ipython3",
   "version": "3.11.5"
  }
 },
 "nbformat": 4,
 "nbformat_minor": 4
}
